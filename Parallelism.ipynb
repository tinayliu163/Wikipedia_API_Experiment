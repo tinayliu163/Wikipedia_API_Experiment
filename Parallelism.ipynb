{
 "cells": [
  {
   "cell_type": "markdown",
   "metadata": {},
   "source": [
    "https://medium.com/@Sean_Hsu/concurrency-parallelism-in-python-ebdc040e0881"
   ]
  },
  {
   "cell_type": "markdown",
   "metadata": {},
   "source": [
    "### Tranditional multiprocessing and threading"
   ]
  },
  {
   "cell_type": "code",
   "execution_count": 11,
   "metadata": {},
   "outputs": [],
   "source": [
    "# concurency package\n",
    "import threading as th\n",
    "import multiprocessing as mp\n",
    "import concurrent.futures\n",
    "\n",
    "import datetime\n",
    "import functools\n",
    "import time\n",
    "import requests\n",
    "import os\n",
    "\n",
    "\n",
    "# use multiprocessing and threading\n"
   ]
  },
  {
   "cell_type": "code",
   "execution_count": 12,
   "metadata": {},
   "outputs": [],
   "source": [
    "# cal cost time\n",
    "def timer(func):\n",
    "    \"\"\"Print the runtime of the decorated function\"\"\"\n",
    "    @functools.wraps(func)\n",
    "    def wrapper_timer(*args, **kwargs):\n",
    "        start_time = time.perf_counter()    # 1\n",
    "        value = func(*args, **kwargs)\n",
    "        end_time = time.perf_counter()      # 2\n",
    "        run_time = end_time - start_time    # 3\n",
    "        print(f\"Finished {func.__name__!r} in {run_time:.4f} secs\")\n",
    "        return value\n",
    "    return wrapper_timer\n"
   ]
  },
  {
   "cell_type": "code",
   "execution_count": 13,
   "metadata": {},
   "outputs": [],
   "source": [
    "# Fibonacci\n",
    "def fib(n):\n",
    "    if n < 2:\n",
    "        return 1\n",
    "    return fib(n - 1) + fib(n - 2)\n"
   ]
  },
  {
   "cell_type": "code",
   "execution_count": 14,
   "metadata": {},
   "outputs": [],
   "source": [
    "# do fib and show some info about thread and process\n",
    "def do_some_fib(n, start):\n",
    "    finish = fib(n)\n",
    "    print(f'{n} ', th.current_thread().name)\n",
    "    print(f'{n} pid:', os.getpid())\n",
    "    print(f'{n} parent id:', os.getppid())\n",
    "    print(f'Complete {n} levels FIB. Answer is {finish}. Cost time {datetime.datetime.now() - start}\\n')\n",
    "    \n",
    "    "
   ]
  },
  {
   "cell_type": "code",
   "execution_count": 15,
   "metadata": {},
   "outputs": [],
   "source": [
    "FIBS = [35, 28, 1, 25, 10]\n",
    "@timer\n",
    "def threading_fib():\n",
    "    threads = []\n",
    "    for i in range(len(FIBS)):\n",
    "        threads.append(th.Thread(target=do_some_fib, args=(FIBS[i], datetime.datetime.now())))\n",
    "        threads[i].start()\n",
    "\n",
    "    for i in range(len(FIBS)):\n",
    "        threads[i].join()\n",
    "        \n",
    "@timer\n",
    "def processing_fib():\n",
    "    processes = []\n",
    "    for i in range(len(FIBS)):\n",
    "        processes.append(mp.Process(target=do_some_fib, args=(FIBS[i], datetime.datetime.now())))\n",
    "        processes[i].start()  \n",
    "    for i in range(len(FIBS)):\n",
    "        processes[i].join()\n",
    "        \n",
    "@timer    \n",
    "def sync_fib():\n",
    "    for i in FIBS:\n",
    "        do_some_fib(i, datetime.datetime.now())\n",
    "        \n",
    "        "
   ]
  },
  {
   "cell_type": "code",
   "execution_count": 16,
   "metadata": {},
   "outputs": [
    {
     "name": "stdout",
     "output_type": "stream",
     "text": [
      "35  MainThread\n",
      "35 pid: 46897\n",
      "35 parent id: 30062\n",
      "Complete 35 levels FIB. Answer is 14930352. Cost time 0:00:02.941418\n",
      "\n",
      "28  MainThread\n",
      "28 pid: 46897\n",
      "28 parent id: 30062\n",
      "Complete 28 levels FIB. Answer is 514229. Cost time 0:00:00.106246\n",
      "\n",
      "1  MainThread\n",
      "1 pid: 46897\n",
      "1 parent id: 30062\n",
      "Complete 1 levels FIB. Answer is 1. Cost time 0:00:00.000111\n",
      "\n",
      "25  MainThread\n",
      "25 pid: 46897\n",
      "25 parent id: 30062\n",
      "Complete 25 levels FIB. Answer is 121393. Cost time 0:00:00.025721\n",
      "\n",
      "10  MainThread\n",
      "10 pid: 46897\n",
      "10 parent id: 30062\n",
      "Complete 10 levels FIB. Answer is 89. Cost time 0:00:00.000117\n",
      "\n",
      "Finished 'sync_fib' in 3.0736 secs\n"
     ]
    }
   ],
   "source": [
    "sync_fib()"
   ]
  },
  {
   "cell_type": "code",
   "execution_count": 17,
   "metadata": {},
   "outputs": [
    {
     "name": "stdout",
     "output_type": "stream",
     "text": [
      "1 10   Thread-6\n",
      "Thread-81 pid:\n",
      " 10 pid: 46897\n",
      "10 parent id: 30062\n",
      "Complete 10 levels FIB. Answer is 89. Cost time 0:00:00.050495\n",
      "\n",
      "25 46897\n",
      " 1 parent id: 30062\n",
      "Thread-7Complete 1 levels FIB. Answer is 1. Cost time 0:00:00.131751\n",
      "\n",
      "\n",
      "25 pid: 46897\n",
      "25 parent id:28   Thread-530062\n",
      "Complete 25 levels FIB. Answer is 121393. Cost time 0:00:00.214786\n",
      "\n",
      "\n",
      "28 pid: 46897\n",
      "28 parent id: 30062\n",
      "Complete 28 levels FIB. Answer is 514229. Cost time 0:00:00.288400\n",
      "\n",
      "35  Thread-4\n",
      "35 pid: 46897\n",
      "35 parent id: 30062\n",
      "Complete 35 levels FIB. Answer is 14930352. Cost time 0:00:03.107867\n",
      "\n",
      "Finished 'threading_fib' in 3.1079 secs\n",
      "--------------------------------------------------\n",
      "1  MainThread\n",
      "1 pid: 47379\n",
      "1 parent id: 46897\n",
      "Complete 1 levels FIB. Answer is 1. Cost time 0:00:00.013147\n",
      "10  MainThread\n",
      "\n",
      "10 pid: 47381\n",
      "10 parent id: 46897\n",
      "Complete 10 levels FIB. Answer is 89. Cost time 0:00:00.015323\n",
      "\n",
      "25  MainThread\n",
      "25 pid: 47380\n",
      "25 parent id: 46897\n",
      "Complete 25 levels FIB. Answer is 121393. Cost time 0:00:00.047050\n",
      "\n",
      "28  MainThread\n",
      "28 pid: 47378\n",
      "28 parent id: 46897\n",
      "Complete 28 levels FIB. Answer is 514229. Cost time 0:00:00.129778\n",
      "\n",
      "35  MainThread\n",
      "35 pid: 47377\n",
      "35 parent id: 46897\n",
      "Complete 35 levels FIB. Answer is 14930352. Cost time 0:00:02.891725\n",
      "\n",
      "Finished 'processing_fib' in 2.8962 secs\n"
     ]
    }
   ],
   "source": [
    "threading_fib()\n",
    "print('-' * 50)\n",
    "processing_fib()"
   ]
  },
  {
   "cell_type": "markdown",
   "metadata": {},
   "source": [
    "### concurrent"
   ]
  },
  {
   "cell_type": "code",
   "execution_count": 18,
   "metadata": {},
   "outputs": [],
   "source": [
    "URLS = [\n",
    "    'https://docs.python.org/3/library/ast.html',\n",
    "    'https://docs.python.org/3/library/abc.html',\n",
    "    'https://docs.python.org/3/library/time.html',\n",
    "    'https://docs.python.org/3/library/os.html',\n",
    "    'https://docs.python.org/3/library/sys.html',\n",
    "    'https://docs.python.org/3/library/io.html',\n",
    "    'https://docs.python.org/3/library/pdb.html',\n",
    "    'https://docs.python.org/3/library/weakref.html'\n",
    "]"
   ]
  },
  {
   "cell_type": "code",
   "execution_count": 23,
   "metadata": {},
   "outputs": [],
   "source": [
    "# use cocurrent\n",
    "\n",
    "# cal cost time\n",
    "def timer(func):\n",
    "    \"\"\"Print the runtime of the decorated function\"\"\"\n",
    "    @functools.wraps(func)\n",
    "    def wrapper_timer(*args, **kwargs):\n",
    "        start_time = time.perf_counter()    # 1\n",
    "        value = func(*args, **kwargs)\n",
    "        end_time = time.perf_counter()      # 2\n",
    "        run_time = end_time - start_time    # 3\n",
    "        print(f\"Finished {func.__name__!r} in {run_time:.4f} secs\")\n",
    "        return value\n",
    "    return wrapper_timer\n",
    "\n",
    "@timer\n",
    "def get_content(url):\n",
    "    print(url)\n",
    "    print(f'{url} | ', th.current_thread().name, f' | pid:', os.getpid(), f' | parent id:', os.getppid())\n",
    "    return requests.get(url).text\n",
    "\n",
    "@timer\n",
    "def thread_scrap():\n",
    "    with concurrent.futures.ThreadPoolExecutor(max_workers=10) as executor:\n",
    "        future_to_url = {executor.submit(get_content, url): url for url in URLS}\n",
    "        print(future_to_url)\n",
    "        for future in concurrent.futures.as_completed(future_to_url):\n",
    "            url = future_to_url[future]\n",
    "            try:\n",
    "                data = future.result()\n",
    "            except Execption as exc:\n",
    "                print('%r generated an exception: %s' % (url, exc))\n",
    "            else:\n",
    "                print('%r page length is %d' % (url, len(data)))\n",
    "\n",
    "@timer\n",
    "def processing_scrap():\n",
    "    with concurrent.futures.ProcessPoolExecutor(10) as executor:\n",
    "        future_to_url = {}\n",
    "        for key, value in zip(URLS, executor.map(get_content, URLS)):\n",
    "            future_to_url[key] = value\n",
    "            print('%r page length is %d' % (key, len(value)))\n",
    "\n",
    "                \n",
    "@timer\n",
    "def main():\n",
    "    for url in URLS:\n",
    "        try:\n",
    "            data = get_content(url)\n",
    "        except Exception as exc:\n",
    "            print('%r generated an exception: %s' % (url, exc))\n",
    "        else:\n",
    "            print('%r page length is %d' % (url, len(data)))"
   ]
  },
  {
   "cell_type": "code",
   "execution_count": 24,
   "metadata": {},
   "outputs": [
    {
     "name": "stdout",
     "output_type": "stream",
     "text": [
      "https://docs.python.org/3/library/ast.html\n",
      "https://docs.python.org/3/library/ast.html |  MainThread  | pid: 46897  | parent id: 30062\n",
      "Finished 'get_content' in 0.0779 secs\n",
      "'https://docs.python.org/3/library/ast.html' page length is 51496\n",
      "https://docs.python.org/3/library/abc.html\n",
      "https://docs.python.org/3/library/abc.html |  MainThread  | pid: 46897  | parent id: 30062\n",
      "Finished 'get_content' in 0.0789 secs\n",
      "'https://docs.python.org/3/library/abc.html' page length is 42162\n",
      "https://docs.python.org/3/library/time.html\n",
      "https://docs.python.org/3/library/time.html |  MainThread  | pid: 46897  | parent id: 30062\n",
      "Finished 'get_content' in 0.0843 secs\n",
      "'https://docs.python.org/3/library/time.html' page length is 93380\n",
      "https://docs.python.org/3/library/os.html\n",
      "https://docs.python.org/3/library/os.html |  MainThread  | pid: 46897  | parent id: 30062\n",
      "Finished 'get_content' in 0.0929 secs\n",
      "'https://docs.python.org/3/library/os.html' page length is 495892\n",
      "https://docs.python.org/3/library/sys.html\n",
      "https://docs.python.org/3/library/sys.html |  MainThread  | pid: 46897  | parent id: 30062\n",
      "Finished 'get_content' in 0.0782 secs\n",
      "'https://docs.python.org/3/library/sys.html' page length is 174875\n",
      "https://docs.python.org/3/library/io.html\n",
      "https://docs.python.org/3/library/io.html |  MainThread  | pid: 46897  | parent id: 30062\n",
      "Finished 'get_content' in 0.0823 secs\n",
      "'https://docs.python.org/3/library/io.html' page length is 129559\n",
      "https://docs.python.org/3/library/pdb.html\n",
      "https://docs.python.org/3/library/pdb.html |  MainThread  | pid: 46897  | parent id: 30062\n",
      "Finished 'get_content' in 0.0671 secs\n",
      "'https://docs.python.org/3/library/pdb.html' page length is 57925\n",
      "https://docs.python.org/3/library/weakref.html\n",
      "https://docs.python.org/3/library/weakref.html |  MainThread  | pid: 46897  | parent id: 30062\n",
      "Finished 'get_content' in 0.0794 secs\n",
      "'https://docs.python.org/3/library/weakref.html' page length is 65943\n",
      "Finished 'main' in 0.6422 secs\n"
     ]
    }
   ],
   "source": [
    "main()\n"
   ]
  },
  {
   "cell_type": "code",
   "execution_count": 26,
   "metadata": {
    "scrolled": false
   },
   "outputs": [
    {
     "name": "stdout",
     "output_type": "stream",
     "text": [
      "https://docs.python.org/3/library/ast.htmlhttps://docs.python.org/3/library/abc.html\n",
      "https://docs.python.org/3/library/ast.html |  ThreadPoolExecutor-2_0  | pid: 46897  | parent id: 30062\n",
      "https://docs.python.org/3/library/time.html\n",
      "https://docs.python.org/3/library/abc.html |  ThreadPoolExecutor-2_1 \n",
      "https://docs.python.org/3/library/time.html |  ThreadPoolExecutor-2_2https://docs.python.org/3/library/os.html\n",
      "https://docs.python.org/3/library/os.html |  ThreadPoolExecutor-2_3  | pid: 46897  | parent id: 30062\n",
      " | pid:  https://docs.python.org/3/library/sys.html | pid: 46897  | parent id: 30062\n",
      "\n",
      "https://docs.python.org/3/library/sys.html |  ThreadPoolExecutor-2_4  | pid: 46897  | parent id: 30062\n",
      "https://docs.python.org/3/library/io.htmlhttps://docs.python.org/3/library/pdb.html46897\n",
      "https://docs.python.org/3/library/weakref.html\n",
      "\n",
      "https://docs.python.org/3/library/weakref.html |  ThreadPoolExecutor-2_7  | pid: 46897  | parent id:{<Future at 0x7f99e86a5390 state=running>: 'https://docs.python.org/3/library/ast.html', <Future at 0x7f9a49078390 state=running>: 'https://docs.python.org/3/library/abc.html', <Future at 0x7f9a2830c450 state=running>: 'https://docs.python.org/3/library/time.html', <Future at 0x7f9a2830ca90 state=running>: 'https://docs.python.org/3/library/os.html', <Future at 0x7f99e860bd10 state=running>: 'https://docs.python.org/3/library/sys.html', <Future at 0x7f9a282dcd90 state=running>: 'https://docs.python.org/3/library/io.html', <Future at 0x7f9a2830b9d0 state=running>: 'https://docs.python.org/3/library/pdb.html', <Future at 0x7f9a282c9510 state=running>: 'https://docs.python.org/3/library/weakref.html'}https://docs.python.org/3/library/pdb.html | \n",
      "https://docs.python.org/3/library/io.html |  ThreadPoolExecutor-2_5  | pid: 46897   30062\n",
      "ThreadPoolExecutor-2_6   | parent id: 30062\n",
      " | parent id: 30062\n",
      " | pid: 46897  | parent id: 30062\n",
      "Finished 'get_content' in 0.0982 secs\n",
      "'https://docs.python.org/3/library/time.html' page length is 93380\n",
      "Finished 'get_content' in 0.1180 secs\n",
      "'https://docs.python.org/3/library/abc.html' page length is 42162\n",
      "Finished 'get_content' in 0.1188 secs\n",
      "'https://docs.python.org/3/library/sys.html' page length is 174875\n",
      "Finished 'get_content' in 0.1235 secs\n",
      "Finished 'get_content' in 0.1162 secs'https://docs.python.org/3/library/ast.html' page length is 51496\n",
      "\n",
      "'https://docs.python.org/3/library/pdb.html' page length is 57925\n",
      "Finished 'get_content' in 0.1319 secs\n",
      "'https://docs.python.org/3/library/io.html' page length is 129559\n",
      "Finished 'get_content' in 0.1303 secs\n",
      "'https://docs.python.org/3/library/weakref.html' page length is 65943\n",
      "Finished 'get_content' in 0.1459 secs\n",
      "'https://docs.python.org/3/library/os.html' page length is 495892\n",
      "Finished 'thread_scrap' in 0.1495 secs\n",
      "--------------------------------------------------\n",
      "https://docs.python.org/3/library/time.html\n",
      "https://docs.python.org/3/library/abc.html\n",
      "https://docs.python.org/3/library/os.html\n",
      "https://docs.python.org/3/library/ast.html\n",
      "https://docs.python.org/3/library/io.html\n",
      "https://docs.python.org/3/library/weakref.html\n",
      "https://docs.python.org/3/library/pdb.html\n",
      "https://docs.python.org/3/library/sys.html\n",
      "https://docs.python.org/3/library/abc.html |  MainThread  | pid: 47408  | parent id: 46897\n",
      "https://docs.python.org/3/library/time.html |  MainThread  | pid: 47409  | parent id: 46897\n",
      "https://docs.python.org/3/library/ast.html |  MainThread  | pid: 47407  | parent id: 46897\n",
      "https://docs.python.org/3/library/os.html |  MainThread  | pid: 47410  | parent id: 46897\n",
      "https://docs.python.org/3/library/weakref.html |  MainThread  | pid: 47414  | parent id: 46897\n",
      "https://docs.python.org/3/library/pdb.html |  MainThread  | pid: 47413  | parent id: 46897\n",
      "https://docs.python.org/3/library/sys.html |  MainThread  | pid: 47411  | parent id: 46897\n",
      "https://docs.python.org/3/library/io.html |  MainThread  | pid: 47412  | parent id: 46897\n",
      "Finished 'get_content' in 0.0827 secs\n",
      "Finished 'get_content' in 0.1028 secs\n",
      "Finished 'get_content' in 0.1088 secs\n",
      "Finished 'get_content' in 0.1231 secs\n",
      "Finished 'get_content' in 0.1255 secs\n",
      "Finished 'get_content' in 0.1273 secs\n",
      "Finished 'get_content' in 0.1289 secs\n",
      "Finished 'get_content' in 0.1456 secs\n",
      "'https://docs.python.org/3/library/ast.html' page length is 51496\n",
      "'https://docs.python.org/3/library/abc.html' page length is 42162\n",
      "'https://docs.python.org/3/library/time.html' page length is 93380\n",
      "'https://docs.python.org/3/library/os.html' page length is 495892\n",
      "'https://docs.python.org/3/library/sys.html' page length is 174875\n",
      "'https://docs.python.org/3/library/io.html' page length is 129559\n",
      "'https://docs.python.org/3/library/pdb.html' page length is 57925\n",
      "'https://docs.python.org/3/library/weakref.html' page length is 65943\n",
      "Finished 'processing_scrap' in 0.2021 secs\n"
     ]
    }
   ],
   "source": [
    "thread_scrap()\n",
    "print('-' * 50)\n",
    "processing_scrap()"
   ]
  },
  {
   "cell_type": "markdown",
   "metadata": {},
   "source": [
    "### The multiprocessing Module\n",
    "#### 1 The Basics: Processes and Locks\n",
    "\n",
    "https://asyncfor.com/posts/python-parallel-system-tools-pp4e.html"
   ]
  },
  {
   "cell_type": "code",
   "execution_count": 27,
   "metadata": {},
   "outputs": [
    {
     "name": "stdout",
     "output_type": "stream",
     "text": [
      "function call: name:__main__, pid:46897\n",
      "spawned child: name:__main__, pid:47417\n",
      "run process 0: name:__main__, pid:47418\n",
      "run process 1: name:__main__, pid:47419\n",
      "run process 2: name:__main__, pid:47420\n",
      "run process 3: name:__main__, pid:47421\n",
      "Main process exit.\n",
      "run process 4: name:__main__, pid:47422\n"
     ]
    }
   ],
   "source": [
    "\"\"\"\n",
    "multiprocess basics: Process works like threading.Thread, but \n",
    "runs function call in parallel in a process instead of a thread;\n",
    "locks can be used to synchronize, e.g. prints on some platforms;\n",
    "starts new interpreter on windows, forks a new process on unix;\n",
    "\"\"\"\n",
    "\n",
    "import os\n",
    "from multiprocessing import Process, Lock\n",
    "\n",
    "def whoami(label, lock):\n",
    "    msg = '%s: name:%s, pid:%s'\n",
    "    with lock:\n",
    "        print(msg % (label, __name__, os.getpid()))\n",
    "\n",
    "if __name__ == '__main__':\n",
    "    lock = Lock()\n",
    "    whoami('function call', lock)\n",
    "\n",
    "    p = Process(target=whoami, args=('spawned child', lock))\n",
    "    p.start()\n",
    "    p.join()\n",
    "\n",
    "    for i in range(5):\n",
    "        Process(target=whoami, args=(('run process %s' % i), lock)).start()\n",
    "\n",
    "    with lock:\n",
    "        print('Main process exit.')"
   ]
  },
  {
   "cell_type": "code",
   "execution_count": null,
   "metadata": {},
   "outputs": [],
   "source": []
  }
 ],
 "metadata": {
  "kernelspec": {
   "display_name": "Python 3",
   "language": "python",
   "name": "python3"
  },
  "language_info": {
   "codemirror_mode": {
    "name": "ipython",
    "version": 3
   },
   "file_extension": ".py",
   "mimetype": "text/x-python",
   "name": "python",
   "nbconvert_exporter": "python",
   "pygments_lexer": "ipython3",
   "version": "3.7.6"
  }
 },
 "nbformat": 4,
 "nbformat_minor": 4
}
